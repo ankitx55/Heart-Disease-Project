{
 "cells": [
  {
   "cell_type": "markdown",
   "id": "968a2691",
   "metadata": {},
   "source": [
    "# Predicting heart disease using Machine Learning"
   ]
  },
  {
   "cell_type": "markdown",
   "id": "4c7f78ce",
   "metadata": {},
   "source": [
    "## We will use this approach\n",
    "\n",
    "1. `Problem defintion` : Based on given clinical parameters predicting whether a person has heart disease.\n",
    "    \n",
    "2. `Data` :\n",
    "    - id\n",
    "    - age\n",
    "    - sex\n",
    "    - dataset\n",
    "    - cp\n",
    "    - trestbps\n",
    "    - chol\n",
    "    - fbs\n",
    "    - restecg\n",
    "    - thalch\n",
    "    - exang\n",
    "    - oldpeak\n",
    "    - slope\n",
    "    - ca\n",
    "    - thal\n",
    "    - num\n",
    "    \n",
    "3. `Evaluation` : We will try to achieve 95% accuracy\n",
    "4. `Features`\n",
    "5. `Modelling`\n",
    "6. `Experimentation`"
   ]
  },
  {
   "cell_type": "markdown",
   "id": "d386c281",
   "metadata": {},
   "source": [
    "## Tools :\n",
    "### `Pandas`, `Matplotlib`, `Numpy`, "
   ]
  },
  {
   "cell_type": "code",
   "execution_count": 3,
   "id": "f15a589b",
   "metadata": {},
   "outputs": [],
   "source": [
    "# EDA\n",
    "import pandas as pd\n",
    "import numpy as np\n",
    "import matplotlib.pyplot as plt\n",
    "import seaborn as sns\n",
    "\n",
    "%matplotlib inline\n",
    "\n",
    "# Scikit-learn models\n",
    "from sklearn.linear_model import LogisticRegression\n",
    "from sklearn.neighbors import KNeighborsClassifier\n",
    "from sklearn.ensemble import RandomForestClassifieromFore\n",
    "\n",
    "from sklearn.model_selection import train_test_split\n",
    "from sklearn.model_selection import RandomizedSearchCV, GridSearchCV\n",
    "from sklearn.metrics import "
   ]
  },
  {
   "cell_type": "code",
   "execution_count": null,
   "id": "1ccf6257",
   "metadata": {},
   "outputs": [],
   "source": []
  }
 ],
 "metadata": {
  "kernelspec": {
   "display_name": "Python 3 (ipykernel)",
   "language": "python",
   "name": "python3"
  },
  "language_info": {
   "codemirror_mode": {
    "name": "ipython",
    "version": 3
   },
   "file_extension": ".py",
   "mimetype": "text/x-python",
   "name": "python",
   "nbconvert_exporter": "python",
   "pygments_lexer": "ipython3",
   "version": "3.10.12"
  }
 },
 "nbformat": 4,
 "nbformat_minor": 5
}
